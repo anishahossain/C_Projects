{
  "nbformat": 4,
  "nbformat_minor": 0,
  "metadata": {
    "colab": {
      "provenance": [],
      "authorship_tag": "ABX9TyMZ1AhHFTKoZDbttkfFSS4B",
      "include_colab_link": true
    },
    "kernelspec": {
      "name": "python3",
      "display_name": "Python 3"
    },
    "language_info": {
      "name": "python"
    }
  },
  "cells": [
    {
      "cell_type": "markdown",
      "metadata": {
        "id": "view-in-github",
        "colab_type": "text"
      },
      "source": [
        "<a href=\"https://colab.research.google.com/github/anishahossain/C_Projects/blob/main/firstai.ipynb\" target=\"_parent\"><img src=\"https://colab.research.google.com/assets/colab-badge.svg\" alt=\"Open In Colab\"/></a>"
      ]
    },
    {
      "cell_type": "markdown",
      "source": [
        "MINST dataset AI model"
      ],
      "metadata": {
        "id": "w7acJyDn7JXT"
      }
    },
    {
      "cell_type": "markdown",
      "source": [
        "Import"
      ],
      "metadata": {
        "id": "Z1hgi4EnOhAo"
      }
    },
    {
      "cell_type": "code",
      "source": [
        "import numpy as np\n",
        "import matplotlib.pyplot as plt\n",
        "%matplotlib inline\n",
        "#Ensures that plots are displayed inline within Notebooks.\n",
        "import keras\n",
        "from keras.models import Sequential\n",
        "from keras.layers import Dense, Dropout\n",
        "# Components from Keras for constructing neural network models.\n",
        "from sklearn.metrics import confusion_matrix #for evaluating classification models.\n",
        "import seaborn as sns # A library for making statistical graphics.\n",
        "\n",
        "np.random.seed(0) #so that we have same results even though data is random\n",
        "# to ensure reproducibility of results.\n",
        "\n"
      ],
      "metadata": {
        "id": "uY9X2E297Q5H"
      },
      "execution_count": null,
      "outputs": []
    },
    {
      "cell_type": "code",
      "source": [
        "# shift enter to run code (shortcut)"
      ],
      "metadata": {
        "id": "jqhg70TWOkEo"
      },
      "execution_count": null,
      "outputs": []
    },
    {
      "cell_type": "markdown",
      "source": [
        "Data Peparation"
      ],
      "metadata": {
        "id": "66-lXf59O3ax"
      }
    },
    {
      "cell_type": "code",
      "source": [
        "from keras.datasets import mnist\n",
        "# splitting it into training and testing sets after loading data\n",
        "(x_train, y_train), (x_test, y_test) = mnist.load_data()"
      ],
      "metadata": {
        "id": "BAD9m34GO6Wo",
        "colab": {
          "base_uri": "https://localhost:8080/"
        },
        "outputId": "32655835-9fe5-49a3-d206-0aaf7bb8dd7c"
      },
      "execution_count": null,
      "outputs": [
        {
          "output_type": "stream",
          "name": "stdout",
          "text": [
            "Downloading data from https://storage.googleapis.com/tensorflow/tf-keras-datasets/mnist.npz\n",
            "\u001b[1m11490434/11490434\u001b[0m \u001b[32m━━━━━━━━━━━━━━━━━━━━\u001b[0m\u001b[37m\u001b[0m \u001b[1m0s\u001b[0m 0us/step\n"
          ]
        }
      ]
    },
    {
      "cell_type": "code",
      "source": [
        "print(x_train.shape, y_train.shape)\n",
        "print(x_test.shape, y_test.shape)\n",
        "#shows us how much we have\n",
        "\n",
        "# for eg 60000 28x28 px size training images , 10000 testing images"
      ],
      "metadata": {
        "colab": {
          "base_uri": "https://localhost:8080/"
        },
        "id": "PJ0ZOXiEPPZw",
        "outputId": "8335ba82-e5d6-4a56-8dad-bd2ce438550b"
      },
      "execution_count": null,
      "outputs": [
        {
          "output_type": "stream",
          "name": "stdout",
          "text": [
            "(60000, 28, 28) (60000,)\n",
            "(10000, 28, 28) (10000,)\n"
          ]
        }
      ]
    },
    {
      "cell_type": "markdown",
      "source": [
        "Visualize examples"
      ],
      "metadata": {
        "id": "YYhjgqGzPo3H"
      }
    },
    {
      "cell_type": "code",
      "source": [
        "num_class = 10\n",
        "f, ax = plt.subplots(1, num_class, figsize=(20,20)) #row num, column, figure size\n",
        "#grid of subplots\n",
        "for i in range(0, num_class):\n",
        "  sample = x_train[y_train == i][0] #we take first image - selects all training images with labe 'i' first image\n",
        "  ax[i].imshow(sample, cmap='gray') #selects 'i'th subplot displays image in greyscale\n",
        "  ax[i].set_title(\"Label: {}\".format(i), fontsize=15)\n",
        "\n"
      ],
      "metadata": {
        "colab": {
          "base_uri": "https://localhost:8080/",
          "height": 161
        },
        "id": "0r9FQrnNPgKv",
        "outputId": "2478f75f-3497-45e4-d526-bf0531202cb8"
      },
      "execution_count": null,
      "outputs": [
        {
          "output_type": "display_data",
          "data": {
            "text/plain": [
              "<Figure size 2000x2000 with 10 Axes>"
            ],
            "image/png": "[encoded data removed]"
          },
          "metadata": {}
        }
      ]
    },
    {
      "cell_type": "code",
      "source": [
        "for i in range(10):\n",
        "  print(y_train[i])\n",
        "\n",
        "#we need to classify our numbers so that if a digit looks between two numbers we do not get a decimal"
      ],
      "metadata": {
        "colab": {
          "base_uri": "https://localhost:8080/"
        },
        "id": "GARc2j3az9aK",
        "outputId": "a87220aa-7779-44ed-cdf6-f15ae9252ba7"
      },
      "execution_count": null,
      "outputs": [
        {
          "output_type": "stream",
          "name": "stdout",
          "text": [
            "5\n",
            "0\n",
            "4\n",
            "1\n",
            "9\n",
            "2\n",
            "1\n",
            "3\n",
            "1\n",
            "4\n"
          ]
        }
      ]
    },
    {
      "cell_type": "code",
      "source": [
        "#classifying\n",
        "y_train = keras.utils.to_categorical(y_train, num_class)\n",
        "y_test = keras.utils.to_categorical(y_test, num_class)\n",
        "#to_categorical: Converts class vectors (integers representing digits) into one-hot encoded vectors.\n",
        "\n",
        "for i in range(10):\n",
        "  print(y_train[i])\n",
        "# the number is represented by 1 in the vector (its place)"
      ],
      "metadata": {
        "colab": {
          "base_uri": "https://localhost:8080/"
        },
        "id": "2X02tR6J0M3_",
        "outputId": "567276b7-c04a-42b0-f511-35063bde23c7"
      },
      "execution_count": null,
      "outputs": [
        {
          "output_type": "stream",
          "name": "stdout",
          "text": [
            "[0. 0. 0. 0. 0. 1. 0. 0. 0. 0.]\n",
            "[1. 0. 0. 0. 0. 0. 0. 0. 0. 0.]\n",
            "[0. 0. 0. 0. 1. 0. 0. 0. 0. 0.]\n",
            "[0. 1. 0. 0. 0. 0. 0. 0. 0. 0.]\n",
            "[0. 0. 0. 0. 0. 0. 0. 0. 0. 1.]\n",
            "[0. 0. 1. 0. 0. 0. 0. 0. 0. 0.]\n",
            "[0. 1. 0. 0. 0. 0. 0. 0. 0. 0.]\n",
            "[0. 0. 0. 1. 0. 0. 0. 0. 0. 0.]\n",
            "[0. 1. 0. 0. 0. 0. 0. 0. 0. 0.]\n",
            "[0. 0. 0. 0. 1. 0. 0. 0. 0. 0.]\n"
          ]
        }
      ]
    },
    {
      "cell_type": "markdown",
      "source": [
        "Prepare data"
      ],
      "metadata": {
        "id": "8oz20asG0okN"
      }
    },
    {
      "cell_type": "code",
      "source": [
        "#preparing data is important as we need to normalise data before feeding into network\n",
        "#in this case the data is rgb images\n",
        "\n",
        "#Normalization: The pixel values in the MNIST dataset range from 0 to 255. Dividing by 255.0 scales the pixel values to the range [0, 1].\n",
        "\n",
        "x_train = x_train / 255.0\n",
        "x_test = x_test / 255.0\n",
        "\n",
        "#reshape data\n",
        "x_train = x_train.reshape(x_train.shape[0], -1)\n",
        "x_test = x_test.reshape(x_test.shape[0], -1)\n",
        "#flattening the images - reshaped into a 1D vector with 784 elements\n",
        "\n",
        "print(x_train.shape)\n",
        "print(x_test.shape)"
      ],
      "metadata": {
        "colab": {
          "base_uri": "https://localhost:8080/"
        },
        "id": "ko7zZfF10qX6",
        "outputId": "219cfdf7-3f7b-4e30-d510-459cce96a77f"
      },
      "execution_count": null,
      "outputs": [
        {
          "output_type": "stream",
          "name": "stdout",
          "text": [
            "(60000, 784)\n",
            "(10000, 784)\n"
          ]
        }
      ]
    },
    {
      "cell_type": "markdown",
      "source": [
        "Create model - fully connected neural network"
      ],
      "metadata": {
        "id": "NNLOSCmG1b_m"
      }
    },
    {
      "cell_type": "code",
      "source": [
        "model = Sequential()\n",
        "#we can keep adding layer after layer using sequential - layers added linearly\n",
        "\n",
        "model.add(Dense(units =128, input_shape = (784, ), activation='relu'))\n",
        "# dense: each neuron (fuly connected) to every neuron\n",
        "#units specify how mny neurons in layer\n",
        "# The input layer expects vectors of length 784 (flattened images) (input shape)\n",
        "\n",
        "model.add(Dense(units = 128, activation='relu'))\n",
        "model.add(Dropout(0.25)) #means that only 25% of our data will be usd for training model\n",
        "#Dropout only affects the training process by randomly dropping neurons.\n",
        "\n",
        "model.add(Dense(units = 10, activation='softmax'))\n",
        "#This layer outputs 10 values, corresponding to the 10 digit classes (0-9).\n",
        "\n",
        "model.compile(loss='categorical_crossentropy', optimizer='adam', metrics=['accuracy'])\n",
        "# we use this loss when we deal with classes\n",
        "model.summary()"
      ],
      "metadata": {
        "colab": {
          "base_uri": "https://localhost:8080/",
          "height": 319
        },
        "id": "WKsbhu191hGv",
        "outputId": "74a2fae7-9630-4329-a103-e1c60e20b385"
      },
      "execution_count": null,
      "outputs": [
        {
          "output_type": "stream",
          "name": "stderr",
          "text": [
            "/usr/local/lib/python3.10/dist-packages/keras/src/layers/core/dense.py:87: UserWarning: Do not pass an `input_shape`/`input_dim` argument to a layer. When using Sequential models, prefer using an `Input(shape)` object as the first layer in the model instead.\n",
            "  super().__init__(activity_regularizer=activity_regularizer, **kwargs)\n"
          ]
        },
        {
          "output_type": "display_data",
          "data": {
            "text/plain": [
              "\u001b[1mModel: \"sequential\"\u001b[0m\n"
            ],
            "text/html": [
              "<pre style=\"white-space:pre;overflow-x:auto;line-height:normal;font-family:Menlo,'DejaVu Sans Mono',consolas,'Courier New',monospace\"><span style=\"font-weight: bold\">Model: \"sequential\"</span>\n",
              "</pre>\n"
            ]
          },
          "metadata": {}
        },
        {
          "output_type": "display_data",
          "data": {
            "text/plain": [
              "┏━━━━━━━━━━━━━━━━━━━━━━━━━━━━━━━━━━━━━━┳━━━━━━━━━━━━━━━━━━━━━━━━━━━━━┳━━━━━━━━━━━━━━━━━┓\n",
              "┃\u001b[1m \u001b[0m\u001b[1mLayer (type)                        \u001b[0m\u001b[1m \u001b[0m┃\u001b[1m \u001b[0m\u001b[1mOutput Shape               \u001b[0m\u001b[1m \u001b[0m┃\u001b[1m \u001b[0m\u001b[1m        Param #\u001b[0m\u001b[1m \u001b[0m┃\n",
              "┡━━━━━━━━━━━━━━━━━━━━━━━━━━━━━━━━━━━━━━╇━━━━━━━━━━━━━━━━━━━━━━━━━━━━━╇━━━━━━━━━━━━━━━━━┩\n",
              "│ dense (\u001b[38;5;33mDense\u001b[0m)                        │ (\u001b[38;5;45mNone\u001b[0m, \u001b[38;5;34m128\u001b[0m)                 │         \u001b[38;5;34m100,480\u001b[0m │\n",
              "├──────────────────────────────────────┼─────────────────────────────┼─────────────────┤\n",
              "│ dense_1 (\u001b[38;5;33mDense\u001b[0m)                      │ (\u001b[38;5;45mNone\u001b[0m, \u001b[38;5;34m128\u001b[0m)                 │          \u001b[38;5;34m16,512\u001b[0m │\n",
              "├──────────────────────────────────────┼─────────────────────────────┼─────────────────┤\n",
              "│ dropout (\u001b[38;5;33mDropout\u001b[0m)                    │ (\u001b[38;5;45mNone\u001b[0m, \u001b[38;5;34m128\u001b[0m)                 │               \u001b[38;5;34m0\u001b[0m │\n",
              "├──────────────────────────────────────┼─────────────────────────────┼─────────────────┤\n",
              "│ dense_2 (\u001b[38;5;33mDense\u001b[0m)                      │ (\u001b[38;5;45mNone\u001b[0m, \u001b[38;5;34m10\u001b[0m)                  │           \u001b[38;5;34m1,290\u001b[0m │\n",
              "└──────────────────────────────────────┴─────────────────────────────┴─────────────────┘\n"
            ],
            "text/html": [
              "<pre style=\"white-space:pre;overflow-x:auto;line-height:normal;font-family:Menlo,'DejaVu Sans Mono',consolas,'Courier New',monospace\">┏━━━━━━━━━━━━━━━━━━━━━━━━━━━━━━━━━━━━━━┳━━━━━━━━━━━━━━━━━━━━━━━━━━━━━┳━━━━━━━━━━━━━━━━━┓\n",
              "┃<span style=\"font-weight: bold\"> Layer (type)                         </span>┃<span style=\"font-weight: bold\"> Output Shape                </span>┃<span style=\"font-weight: bold\">         Param # </span>┃\n",
              "┡━━━━━━━━━━━━━━━━━━━━━━━━━━━━━━━━━━━━━━╇━━━━━━━━━━━━━━━━━━━━━━━━━━━━━╇━━━━━━━━━━━━━━━━━┩\n",
              "│ dense (<span style=\"color: #0087ff; text-decoration-color: #0087ff\">Dense</span>)                        │ (<span style=\"color: #00d7ff; text-decoration-color: #00d7ff\">None</span>, <span style=\"color: #00af00; text-decoration-color: #00af00\">128</span>)                 │         <span style=\"color: #00af00; text-decoration-color: #00af00\">100,480</span> │\n",
              "├──────────────────────────────────────┼─────────────────────────────┼─────────────────┤\n",
              "│ dense_1 (<span style=\"color: #0087ff; text-decoration-color: #0087ff\">Dense</span>)                      │ (<span style=\"color: #00d7ff; text-decoration-color: #00d7ff\">None</span>, <span style=\"color: #00af00; text-decoration-color: #00af00\">128</span>)                 │          <span style=\"color: #00af00; text-decoration-color: #00af00\">16,512</span> │\n",
              "├──────────────────────────────────────┼─────────────────────────────┼─────────────────┤\n",
              "│ dropout (<span style=\"color: #0087ff; text-decoration-color: #0087ff\">Dropout</span>)                    │ (<span style=\"color: #00d7ff; text-decoration-color: #00d7ff\">None</span>, <span style=\"color: #00af00; text-decoration-color: #00af00\">128</span>)                 │               <span style=\"color: #00af00; text-decoration-color: #00af00\">0</span> │\n",
              "├──────────────────────────────────────┼─────────────────────────────┼─────────────────┤\n",
              "│ dense_2 (<span style=\"color: #0087ff; text-decoration-color: #0087ff\">Dense</span>)                      │ (<span style=\"color: #00d7ff; text-decoration-color: #00d7ff\">None</span>, <span style=\"color: #00af00; text-decoration-color: #00af00\">10</span>)                  │           <span style=\"color: #00af00; text-decoration-color: #00af00\">1,290</span> │\n",
              "└──────────────────────────────────────┴─────────────────────────────┴─────────────────┘\n",
              "</pre>\n"
            ]
          },
          "metadata": {}
        },
        {
          "output_type": "display_data",
          "data": {
            "text/plain": [
              "\u001b[1m Total params: \u001b[0m\u001b[38;5;34m118,282\u001b[0m (462.04 KB)\n"
            ],
            "text/html": [
              "<pre style=\"white-space:pre;overflow-x:auto;line-height:normal;font-family:Menlo,'DejaVu Sans Mono',consolas,'Courier New',monospace\"><span style=\"font-weight: bold\"> Total params: </span><span style=\"color: #00af00; text-decoration-color: #00af00\">118,282</span> (462.04 KB)\n",
              "</pre>\n"
            ]
          },
          "metadata": {}
        },
        {
          "output_type": "display_data",
          "data": {
            "text/plain": [
              "\u001b[1m Trainable params: \u001b[0m\u001b[38;5;34m118,282\u001b[0m (462.04 KB)\n"
            ],
            "text/html": [
              "<pre style=\"white-space:pre;overflow-x:auto;line-height:normal;font-family:Menlo,'DejaVu Sans Mono',consolas,'Courier New',monospace\"><span style=\"font-weight: bold\"> Trainable params: </span><span style=\"color: #00af00; text-decoration-color: #00af00\">118,282</span> (462.04 KB)\n",
              "</pre>\n"
            ]
          },
          "metadata": {}
        },
        {
          "output_type": "display_data",
          "data": {
            "text/plain": [
              "\u001b[1m Non-trainable params: \u001b[0m\u001b[38;5;34m0\u001b[0m (0.00 B)\n"
            ],
            "text/html": [
              "<pre style=\"white-space:pre;overflow-x:auto;line-height:normal;font-family:Menlo,'DejaVu Sans Mono',consolas,'Courier New',monospace\"><span style=\"font-weight: bold\"> Non-trainable params: </span><span style=\"color: #00af00; text-decoration-color: #00af00\">0</span> (0.00 B)\n",
              "</pre>\n"
            ]
          },
          "metadata": {}
        }
      ]
    },
    {
      "cell_type": "markdown",
      "source": [
        "Layer (type): This column lists the different layers in your model. In your case, you have three Dense layers and one Dropout layer.\n",
        "Output Shape: This column shows the shape of the data as it moves through each layer. The shape (None, 128) means that the output has 128 units (neurons), and None indicates that the batch size can vary.\n",
        "Param #: This column indicates the number of parameters (weights and biases) in each layer that the model will learn during training."
      ],
      "metadata": {
        "id": "-U7ZFTaq4Xdb"
      }
    },
    {
      "cell_type": "code",
      "source": [
        "#train\n",
        "\n",
        "batch_size = 512 # 512 images imported into network at a single time\n",
        "epochs = 10\n",
        "model.fit(x =x_train, y = y_train, batch_size=batch_size, epochs=epochs)\n"
      ],
      "metadata": {
        "colab": {
          "base_uri": "https://localhost:8080/"
        },
        "id": "YnHTfVU5446Q",
        "outputId": "4d92d7fc-42a7-4791-c18a-f0aad93d6900"
      },
      "execution_count": null,
      "outputs": [
        {
          "output_type": "stream",
          "name": "stdout",
          "text": [
            "Epoch 1/10\n",
            "\u001b[1m118/118\u001b[0m \u001b[32m━━━━━━━━━━━━━━━━━━━━\u001b[0m\u001b[37m\u001b[0m \u001b[1m3s\u001b[0m 12ms/step - accuracy: 0.6892 - loss: 1.0496\n",
            "Epoch 2/10\n",
            "\u001b[1m118/118\u001b[0m \u001b[32m━━━━━━━━━━━━━━━━━━━━\u001b[0m\u001b[37m\u001b[0m \u001b[1m2s\u001b[0m 12ms/step - accuracy: 0.9280 - loss: 0.2504\n",
            "Epoch 3/10\n",
            "\u001b[1m118/118\u001b[0m \u001b[32m━━━━━━━━━━━━━━━━━━━━\u001b[0m\u001b[37m\u001b[0m \u001b[1m3s\u001b[0m 18ms/step - accuracy: 0.9489 - loss: 0.1757\n",
            "Epoch 4/10\n",
            "\u001b[1m118/118\u001b[0m \u001b[32m━━━━━━━━━━━━━━━━━━━━\u001b[0m\u001b[37m\u001b[0m \u001b[1m2s\u001b[0m 19ms/step - accuracy: 0.9595 - loss: 0.1375\n",
            "Epoch 5/10\n",
            "\u001b[1m118/118\u001b[0m \u001b[32m━━━━━━━━━━━━━━━━━━━━\u001b[0m\u001b[37m\u001b[0m \u001b[1m2s\u001b[0m 13ms/step - accuracy: 0.9675 - loss: 0.1079\n",
            "Epoch 6/10\n",
            "\u001b[1m118/118\u001b[0m \u001b[32m━━━━━━━━━━━━━━━━━━━━\u001b[0m\u001b[37m\u001b[0m \u001b[1m2s\u001b[0m 11ms/step - accuracy: 0.9725 - loss: 0.0935\n",
            "Epoch 7/10\n",
            "\u001b[1m118/118\u001b[0m \u001b[32m━━━━━━━━━━━━━━━━━━━━\u001b[0m\u001b[37m\u001b[0m \u001b[1m3s\u001b[0m 11ms/step - accuracy: 0.9781 - loss: 0.0765\n",
            "Epoch 8/10\n",
            "\u001b[1m118/118\u001b[0m \u001b[32m━━━━━━━━━━━━━━━━━━━━\u001b[0m\u001b[37m\u001b[0m \u001b[1m1s\u001b[0m 11ms/step - accuracy: 0.9795 - loss: 0.0686\n",
            "Epoch 9/10\n",
            "\u001b[1m118/118\u001b[0m \u001b[32m━━━━━━━━━━━━━━━━━━━━\u001b[0m\u001b[37m\u001b[0m \u001b[1m3s\u001b[0m 12ms/step - accuracy: 0.9833 - loss: 0.0565\n",
            "Epoch 10/10\n",
            "\u001b[1m118/118\u001b[0m \u001b[32m━━━━━━━━━━━━━━━━━━━━\u001b[0m\u001b[37m\u001b[0m \u001b[1m2s\u001b[0m 20ms/step - accuracy: 0.9854 - loss: 0.0489\n"
          ]
        },
        {
          "output_type": "execute_result",
          "data": {
            "text/plain": [
              "<keras.src.callbacks.history.History at 0x782dbd19e0e0>"
            ]
          },
          "metadata": {},
          "execution_count": 12
        }
      ]
    },
    {
      "cell_type": "code",
      "source": [
        "test_loss,test_acc = model.evaluate(x_test, y_test)\n",
        "print(\"Test Loss: {},Test Accuracy: {}\".format(test_loss, test_acc))"
      ],
      "metadata": {
        "colab": {
          "base_uri": "https://localhost:8080/"
        },
        "id": "E2Pw10zf5jbB",
        "outputId": "dc1e5c6c-38e2-44f2-b7bc-081e272bd43f"
      },
      "execution_count": null,
      "outputs": [
        {
          "output_type": "stream",
          "name": "stdout",
          "text": [
            "\u001b[1m313/313\u001b[0m \u001b[32m━━━━━━━━━━━━━━━━━━━━\u001b[0m\u001b[37m\u001b[0m \u001b[1m1s\u001b[0m 2ms/step - accuracy: 0.9731 - loss: 0.0830\n",
            "Test Loss: 0.07235310226678848,Test Accuracy: 0.9771999716758728\n"
          ]
        }
      ]
    },
    {
      "cell_type": "code",
      "source": [
        "y_prediction = model.predict(x_test)\n",
        "y_prediction_classes = np.argmax(y_prediction, axis=1)\n",
        "print(y_prediction)\n",
        "print(y_prediction_classes)\n"
      ],
      "metadata": {
        "colab": {
          "base_uri": "https://localhost:8080/"
        },
        "id": "JUdyy1qw5_KE",
        "outputId": "20c1b6f7-8c4b-4271-e3c9-90591ebde326"
      },
      "execution_count": null,
      "outputs": [
        {
          "output_type": "stream",
          "name": "stdout",
          "text": [
            "\u001b[1m313/313\u001b[0m \u001b[32m━━━━━━━━━━━━━━━━━━━━\u001b[0m\u001b[37m\u001b[0m \u001b[1m1s\u001b[0m 4ms/step\n",
            "[[3.3699195e-07 7.6214235e-07 2.3817292e-05 ... 9.9981403e-01\n",
            "  7.4940823e-07 1.5939717e-05]\n",
            " [4.6036902e-07 5.4157764e-04 9.9936754e-01 ... 1.9506751e-07\n",
            "  4.5073616e-06 9.8421848e-10]\n",
            " [2.6578532e-06 9.9698895e-01 1.8626417e-04 ... 2.3801727e-03\n",
            "  2.0967043e-04 2.0354006e-05]\n",
            " ...\n",
            " [1.5716795e-10 3.9185934e-09 5.8549660e-10 ... 9.8369708e-07\n",
            "  2.7943568e-07 7.9212376e-05]\n",
            " [9.7367858e-10 2.6005363e-08 6.5649319e-10 ... 1.2335366e-08\n",
            "  4.4855919e-06 8.7248347e-10]\n",
            " [7.2130293e-09 5.4096349e-11 7.7815070e-09 ... 1.0650395e-11\n",
            "  1.0604559e-08 7.5963308e-10]]\n",
            "[7 2 1 ... 4 5 6]\n"
          ]
        }
      ]
    },
    {
      "cell_type": "markdown",
      "source": [
        "trained model is used to predict the output for the test dataset (x_test).\n",
        "y_prediction: This variable will contain the predicted probabilities for each class (digits 0-9) for each test image.\n",
        "The output will be a 2D array (matrix) where each row corresponds to a test image, and each column corresponds to the predicted probability for one of the 10 classes (digits 0 - 9).\n",
        "For example, y_prediction[0] might look like [0.1, 0.2, 0.05, 0.15, 0.05, 0.1, 0.1, 0.05, 0.15, 0.05], which means that the model thinks there is a 10% chance the first image is a 0, a 20% chance it's a 1, and so on.\n",
        "\n",
        "\n",
        "np.argmax: This function finds the index of the maximum value along a specified axis.\n",
        "axis=1: This tells argmax to look along the second axis (columns) for each row in y_prediction thus finds higest probability of digit image\n",
        "\n",
        "This index corresponds to the predicted digit.\n",
        "y_prediction_classes: This will contain the predicted digit class (0-9) for each test image.\n",
        "For example, if the highest probability in y_prediction[0] is at index 1, then y_prediction_classes[0] will be 1, meaning the model predicts that the first test image is of the digit 1."
      ],
      "metadata": {
        "id": "RRCf5fam65du"
      }
    },
    {
      "cell_type": "code",
      "source": [
        "#example prediction\n",
        "#The code randomly picks a test image, retrieves its true label and the model's predicted label, and then displays the image along with this information.\n",
        "random_index = np.random.choice(len(x_test)) #randomly selects  a test image index\n",
        "x_sample = x_test[random_index] #selects image corresponding to randomm image index\n",
        "y_true = np.argmax(y_test, axis=1)\n",
        "#This converts the one-hot encoded true labels (y_test) back into integer labels (0-9) by taking the index of the maximum value along the second axis (the one-hot vector).\n",
        "y_sampple_true = y_true[random_index] #actual label\n",
        "y_sample_predclass = y_prediction_classes[random_index] #predicted digit class\n",
        "\n",
        "plt.title(\"Predicted: {}, True: {}\".format(y_sample_predclass, y_sampple_true), fontsize=15)\n",
        "plt.imshow(x_sample.reshape((28,28)), cmap='gray')\n"
      ],
      "metadata": {
        "id": "aTJw-z2u6YO5",
        "colab": {
          "base_uri": "https://localhost:8080/",
          "height": 471
        },
        "outputId": "1a05276b-048f-4c7e-de20-ef58bd7f0bfc"
      },
      "execution_count": null,
      "outputs": [
        {
          "output_type": "execute_result",
          "data": {
            "text/plain": [
              "<matplotlib.image.AxesImage at 0x782d9ead69b0>"
            ]
          },
          "metadata": {},
          "execution_count": 15
        },
        {
          "output_type": "display_data",
          "data": {
            "text/plain": [
              "<Figure size 640x480 with 1 Axes>"
            ],
            "image/png": "[encoded data removed]"
          },
          "metadata": {}
        }
      ]
    },
    {
      "cell_type": "code",
      "source": [
        "confusion_mtx = confusion_matrix(y_true, y_prediction_classes)\n",
        "\n",
        "#plot\n",
        "figure, ax = plt.subplots(figsize=(10,10))\n",
        "ax = sns.heatmap(confusion_mtx, annot=True, fmt='d', ax=ax, cmap='Reds')\n",
        "ax.set_xlabel(\"predicted Label\")\n",
        "ax.set_ylabel(\"True Label\")\n",
        "ax.set_title(\"confusion matrix\");\n"
      ],
      "metadata": {
        "colab": {
          "base_uri": "https://localhost:8080/",
          "height": 757
        },
        "id": "zmLm3_KpR-qx",
        "outputId": "f7d65d0c-a1fb-427c-d161-46312df7d65c"
      },
      "execution_count": null,
      "outputs": [
        {
          "output_type": "display_data",
          "data": {
            "text/plain": [
              "<Figure size 1000x1000 with 2 Axes>"
            ],
            "image/png": "[encoded data removed]"
          },
          "metadata": {}
        }
      ]
    },
    {
      "cell_type": "markdown",
      "source": [
        "this confusion matrix shows us how many images we correctly predicted and how many were wrongly classified"
      ],
      "metadata": {
        "id": "eULHkvCrUP33"
      }
    },
    {
      "cell_type": "code",
      "source": [],
      "metadata": {
        "id": "xF-raoN2Tisq"
      },
      "execution_count": null,
      "outputs": []
    }
  ]
}